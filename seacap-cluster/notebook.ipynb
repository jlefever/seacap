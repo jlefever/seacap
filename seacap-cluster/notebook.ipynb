{
 "cells": [
  {
   "cell_type": "code",
   "execution_count": 1,
   "id": "metallic-integrity",
   "metadata": {},
   "outputs": [],
   "source": [
    "import json\n",
    "from typing import List, Tuple\n",
    "from collections import defaultdict\n",
    "\n",
    "import numpy as np\n",
    "import matplotlib as mpl\n",
    "import matplotlib.pyplot as plt\n",
    "import scipy as sp\n",
    "from scipy import sparse\n",
    "from scipy.stats import ortho_group\n",
    "from scipy.sparse.linalg import eigsh\n",
    "import sklearn as sk\n",
    "from sklearn.cluster import KMeans\n",
    "\n",
    "import model\n",
    "from server import parse_request"
   ]
  },
  {
   "cell_type": "code",
   "execution_count": 2,
   "id": "dressed-diving",
   "metadata": {},
   "outputs": [],
   "source": [
    "def load_example(filename: str) -> model.Request:\n",
    "    with open(filename) as file:\n",
    "        return parse_request(json.load(file))"
   ]
  },
  {
   "cell_type": "code",
   "execution_count": 3,
   "id": "american-dallas",
   "metadata": {},
   "outputs": [],
   "source": [
    "def to_matrix(triples: List[model.Triplet], shape: Tuple[int, int]):\n",
    "    row = list(map(lambda t: t.row, triples))\n",
    "    col = list(map(lambda t: t.col, triples))\n",
    "    data = list(map(lambda t: float(t.value), triples))\n",
    "    return sparse.coo_matrix((data, (row, col)), shape=shape)"
   ]
  },
  {
   "cell_type": "code",
   "execution_count": 4,
   "id": "sized-reservoir",
   "metadata": {},
   "outputs": [],
   "source": [
    "def get_relations(req: model.Request):\n",
    "    relations = defaultdict(dict)\n",
    "    for rel in req.relations:\n",
    "        shape = (req.sets[rel.rows].size, req.sets[rel.cols].size)\n",
    "        matrix = to_matrix(rel.triplets, shape)\n",
    "        relations[rel.rows][rel.cols] = matrix.todense()\n",
    "        relations[rel.cols][rel.rows] = np.transpose(matrix).todense()\n",
    "    return relations"
   ]
  },
  {
   "cell_type": "code",
   "execution_count": 5,
   "id": "invisible-vermont",
   "metadata": {},
   "outputs": [],
   "source": [
    "def init_C(dataset: model.DataSet):\n",
    "    return ortho_group.rvs(dataset.size)[:,:dataset.num_clusters]"
   ]
  },
  {
   "cell_type": "code",
   "execution_count": 6,
   "id": "patient-jones",
   "metadata": {},
   "outputs": [],
   "source": [
    "def calc_M(sets, relations, indicators, p):\n",
    "    summands = []\n",
    "    for j in range(p + 1, len(sets)):\n",
    "        R = relations[sets[p]][sets[j]]\n",
    "        C = indicators[j]\n",
    "        RC = np.matmul(R, C)\n",
    "        RCCT = np.matmul(RC, C.T)\n",
    "        summands.append(np.matmul(RCCT, R.T))\n",
    "#         summands.append(np.matmul(RC, RC.T))\n",
    "    for j in range(0, p):\n",
    "        R = relations[sets[j]][sets[p]]\n",
    "        C = indicators[j]\n",
    "        RTC = np.matmul(R.T, C)\n",
    "        RTCCT = np.matmul(RTC, C.T)\n",
    "        summands.append(np.matmul(RTCCT, R))\n",
    "#         summands.append(np.matmul(RTC, RTC.T))\n",
    "    return np.add.reduce(summands)"
   ]
  },
  {
   "cell_type": "code",
   "execution_count": 7,
   "id": "imposed-intranet",
   "metadata": {},
   "outputs": [],
   "source": [
    "def cluster(sets, relations, indicators):\n",
    "    old_eigenvalues = [0 for _ in range(len(sets))]\n",
    "    error = [1 for _ in range(len(sets))]\n",
    "    n_iters = 0\n",
    "    for _ in range(1200):\n",
    "        for p in range(0, len(sets)):\n",
    "            M = calc_M(sets, relations, indicators, p)\n",
    "            C = indicators[p]\n",
    "            eigenvalues, eigenvectors = eigsh(M, k=C.shape[1], which=\"LM\")\n",
    "            error[p] = np.amax(np.abs(old_eigenvalues[p] - eigenvalues))\n",
    "            old_eigenvalues[p] = eigenvalues\n",
    "            indicators[p] = eigenvectors\n",
    "        n_iters += 1\n",
    "        if all(map(lambda x: x < 1e-8, error)):\n",
    "            break\n",
    "    print(n_iters)"
   ]
  },
  {
   "cell_type": "code",
   "execution_count": 8,
   "id": "purple-senate",
   "metadata": {},
   "outputs": [],
   "source": [
    "req = load_example(\"example_request.json\")\n",
    "relations = get_relations(req)\n",
    "sets = list(req.sets.keys())\n",
    "indicators = list(map(init_C, req.sets.values()))"
   ]
  },
  {
   "cell_type": "code",
   "execution_count": 9,
   "id": "vietnamese-symphony",
   "metadata": {},
   "outputs": [
    {
     "name": "stdout",
     "output_type": "stream",
     "text": [
      "230\n"
     ]
    }
   ],
   "source": [
    "cluster(sets, relations, indicators)"
   ]
  },
  {
   "cell_type": "code",
   "execution_count": 16,
   "id": "expected-cause",
   "metadata": {},
   "outputs": [],
   "source": [
    "def onehot(length: int, index: int):\n",
    "    v = np.zeros(length)\n",
    "    v[index] = 1\n",
    "    return v\n",
    "\n",
    "def discretize(indicator):\n",
    "    k = indicator.shape[1]\n",
    "    kmeans = KMeans(n_clusters=k, random_state=0).fit(indicator)\n",
    "    rows = map(lambda c: onehot(k, c), kmeans.labels_)\n",
    "    return np.vstack(list(rows))"
   ]
  },
  {
   "cell_type": "code",
   "execution_count": 17,
   "id": "eastern-celtic",
   "metadata": {},
   "outputs": [
    {
     "data": {
      "text/plain": [
       "array([[ 2.96376944e-02, -6.23917732e-01,  3.98119417e-02,\n",
       "         4.94366377e-02],\n",
       "       [ 6.42199428e-02, -7.50145836e-02, -4.28772380e-01,\n",
       "         4.25008676e-02],\n",
       "       [-4.04320964e-02, -6.48665335e-02,  2.00654018e-01,\n",
       "         4.07811570e-01],\n",
       "       [ 6.56397284e-02, -4.59326063e-02,  1.64952052e-01,\n",
       "         4.26592091e-01],\n",
       "       [-2.62918597e-01, -9.77751662e-02, -1.81747566e-01,\n",
       "         1.97279840e-02],\n",
       "       [ 4.08088453e-03, -3.28959482e-02, -7.09589599e-04,\n",
       "         9.11498392e-04],\n",
       "       [-8.48516385e-02,  1.48947793e-02, -1.33580933e-01,\n",
       "         2.63470250e-02],\n",
       "       [ 2.54667828e-02, -5.78580301e-01,  4.04034201e-02,\n",
       "         4.82960391e-02],\n",
       "       [ 6.47282007e-02, -5.04993327e-02, -5.26089483e-02,\n",
       "         5.12245777e-01],\n",
       "       [ 2.95601475e-02, -1.53077564e-01,  1.52543563e-02,\n",
       "         1.80570463e-02],\n",
       "       [-3.86716438e-01, -4.77878645e-02, -3.94362763e-01,\n",
       "         3.40906503e-02],\n",
       "       [ 7.10460054e-01, -1.42711461e-02, -5.52821802e-01,\n",
       "         7.11541439e-02],\n",
       "       [-1.67089684e-01,  1.49321579e-03, -1.97700599e-01,\n",
       "         2.19703902e-02],\n",
       "       [-4.42145041e-02,  1.23014935e-03, -9.68453060e-03,\n",
       "         3.98158822e-02],\n",
       "       [ 1.47021976e-02,  7.38584111e-03, -2.06785949e-01,\n",
       "         2.11922090e-02],\n",
       "       [ 4.17091155e-03, -4.53374313e-02, -5.91478399e-04,\n",
       "         1.14059865e-03],\n",
       "       [-2.70536580e-01, -2.62554394e-02, -2.39464662e-01,\n",
       "         5.16355160e-02],\n",
       "       [-4.25909048e-03,  7.29486915e-04, -5.31992802e-03,\n",
       "         1.36188540e-02],\n",
       "       [-2.77954288e-02, -1.14569300e-02, -1.44832476e-02,\n",
       "        -2.57722929e-04],\n",
       "       [-1.69585032e-02, -2.02357882e-02, -4.37367964e-03,\n",
       "         2.26679177e-02],\n",
       "       [-4.25909048e-03,  7.29486915e-04, -5.31992802e-03,\n",
       "         1.36188540e-02],\n",
       "       [-7.41929755e-02,  1.95105404e-01, -3.37515662e-02,\n",
       "         4.47023655e-01],\n",
       "       [-3.02040164e-02,  2.12549522e-01, -1.98263205e-02,\n",
       "         4.00430738e-01],\n",
       "       [-9.30114992e-02, -1.83678574e-01, -5.40011109e-02,\n",
       "         1.99330784e-02],\n",
       "       [-2.70086443e-02, -2.33126302e-01,  2.91285795e-02,\n",
       "         6.21681808e-02],\n",
       "       [-1.72514667e-01,  3.18641891e-03, -1.71566406e-01,\n",
       "         2.12288353e-02],\n",
       "       [-2.98422201e-02, -1.51534347e-02,  4.34546047e-03,\n",
       "         2.66451493e-02],\n",
       "       [ 2.81459220e-02, -1.51065119e-01,  1.51217438e-02,\n",
       "         1.79956729e-02],\n",
       "       [-3.15960027e-01, -1.01209463e-02, -2.32695510e-01,\n",
       "         2.13499754e-02],\n",
       "       [-2.80890146e-02, -1.63317421e-01,  1.97812063e-02,\n",
       "         5.13606984e-02],\n",
       "       [-2.10007464e-02, -1.35307607e-02, -3.69849565e-02,\n",
       "         3.19310898e-03]])"
      ]
     },
     "execution_count": 17,
     "metadata": {},
     "output_type": "execute_result"
    }
   ],
   "source": [
    "indicators[0]"
   ]
  },
  {
   "cell_type": "code",
   "execution_count": 18,
   "id": "advisory-industry",
   "metadata": {},
   "outputs": [
    {
     "data": {
      "text/plain": [
       "array([[1., 0., 0., 0.],\n",
       "       [0., 1., 0., 0.],\n",
       "       [0., 0., 0., 1.],\n",
       "       [0., 0., 0., 1.],\n",
       "       [0., 1., 0., 0.],\n",
       "       [0., 1., 0., 0.],\n",
       "       [0., 1., 0., 0.],\n",
       "       [1., 0., 0., 0.],\n",
       "       [0., 0., 0., 1.],\n",
       "       [0., 1., 0., 0.],\n",
       "       [0., 1., 0., 0.],\n",
       "       [0., 0., 1., 0.],\n",
       "       [0., 1., 0., 0.],\n",
       "       [0., 1., 0., 0.],\n",
       "       [0., 1., 0., 0.],\n",
       "       [0., 1., 0., 0.],\n",
       "       [0., 1., 0., 0.],\n",
       "       [0., 1., 0., 0.],\n",
       "       [0., 1., 0., 0.],\n",
       "       [0., 1., 0., 0.],\n",
       "       [0., 1., 0., 0.],\n",
       "       [0., 0., 0., 1.],\n",
       "       [0., 0., 0., 1.],\n",
       "       [0., 1., 0., 0.],\n",
       "       [0., 1., 0., 0.],\n",
       "       [0., 1., 0., 0.],\n",
       "       [0., 1., 0., 0.],\n",
       "       [0., 1., 0., 0.],\n",
       "       [0., 1., 0., 0.],\n",
       "       [0., 1., 0., 0.],\n",
       "       [0., 1., 0., 0.]])"
      ]
     },
     "execution_count": 18,
     "metadata": {},
     "output_type": "execute_result"
    }
   ],
   "source": [
    "discretize(indicators[0])"
   ]
  },
  {
   "cell_type": "code",
   "execution_count": null,
   "id": "casual-vessel",
   "metadata": {},
   "outputs": [],
   "source": [
    "C = indicators[1]\n",
    "kmeans = KMeans(n_clusters=C.shape[1], random_state=0).fit(C)"
   ]
  },
  {
   "cell_type": "code",
   "execution_count": null,
   "id": "floral-employment",
   "metadata": {},
   "outputs": [],
   "source": [
    "kmeans.labels_"
   ]
  },
  {
   "cell_type": "code",
   "execution_count": null,
   "id": "secure-cameroon",
   "metadata": {},
   "outputs": [],
   "source": [
    "indicators[2]"
   ]
  },
  {
   "cell_type": "code",
   "execution_count": null,
   "id": "challenging-connectivity",
   "metadata": {},
   "outputs": [],
   "source": [
    "for indicator in indicators:\n",
    "    indicator = sp.cluster.vq.whiten(indicator)"
   ]
  },
  {
   "cell_type": "code",
   "execution_count": null,
   "id": "offensive-continuity",
   "metadata": {},
   "outputs": [],
   "source": [
    "A = np.array([[1, 0, 0], [0, 2, 0], [0, 0, 3]], 'float64')"
   ]
  },
  {
   "cell_type": "code",
   "execution_count": null,
   "id": "detailed-thread",
   "metadata": {},
   "outputs": [],
   "source": [
    "A"
   ]
  },
  {
   "cell_type": "code",
   "execution_count": null,
   "id": "fitted-baltimore",
   "metadata": {},
   "outputs": [],
   "source": [
    "np.flip(A, axis=1)"
   ]
  },
  {
   "cell_type": "code",
   "execution_count": null,
   "id": "surgical-network",
   "metadata": {},
   "outputs": [],
   "source": [
    "evalues, evectors = eigsh(M, k=3, which=\"LM\", return_eigenvectors=True)"
   ]
  },
  {
   "cell_type": "code",
   "execution_count": null,
   "id": "current-muslim",
   "metadata": {},
   "outputs": [],
   "source": [
    "evalues"
   ]
  },
  {
   "cell_type": "code",
   "execution_count": null,
   "id": "biblical-shelf",
   "metadata": {},
   "outputs": [],
   "source": [
    "evectors"
   ]
  },
  {
   "cell_type": "code",
   "execution_count": null,
   "id": "legendary-coordinate",
   "metadata": {},
   "outputs": [],
   "source": [
    "lam = evalues[0]"
   ]
  },
  {
   "cell_type": "code",
   "execution_count": null,
   "id": "superb-boutique",
   "metadata": {},
   "outputs": [],
   "source": [
    "x = evectors[:, 0]"
   ]
  },
  {
   "cell_type": "code",
   "execution_count": null,
   "id": "caroline-present",
   "metadata": {},
   "outputs": [],
   "source": [
    "sp.linalg.norm(evectors[:, 2])"
   ]
  },
  {
   "cell_type": "code",
   "execution_count": null,
   "id": "extreme-message",
   "metadata": {},
   "outputs": [],
   "source": [
    "np.matmul(M, x) - np.multiply(x, lam)"
   ]
  },
  {
   "cell_type": "code",
   "execution_count": null,
   "id": "august-webcam",
   "metadata": {},
   "outputs": [],
   "source": [
    "np.matmul(M, x)"
   ]
  },
  {
   "cell_type": "code",
   "execution_count": null,
   "id": "british-psychiatry",
   "metadata": {},
   "outputs": [],
   "source": [
    "np.multiply(x, lam)"
   ]
  },
  {
   "cell_type": "code",
   "execution_count": null,
   "id": "retired-singer",
   "metadata": {},
   "outputs": [],
   "source": [
    "evectors[:, 0] * evalues[0]"
   ]
  },
  {
   "cell_type": "code",
   "execution_count": null,
   "id": "changing-vulnerability",
   "metadata": {},
   "outputs": [],
   "source": []
  },
  {
   "cell_type": "code",
   "execution_count": null,
   "id": "interesting-parts",
   "metadata": {},
   "outputs": [],
   "source": [
    "np.eye"
   ]
  }
 ],
 "metadata": {
  "kernelspec": {
   "display_name": "Python 3",
   "language": "python",
   "name": "python3"
  },
  "language_info": {
   "codemirror_mode": {
    "name": "ipython",
    "version": 3
   },
   "file_extension": ".py",
   "mimetype": "text/x-python",
   "name": "python",
   "nbconvert_exporter": "python",
   "pygments_lexer": "ipython3",
   "version": "3.8.10"
  }
 },
 "nbformat": 4,
 "nbformat_minor": 5
}
