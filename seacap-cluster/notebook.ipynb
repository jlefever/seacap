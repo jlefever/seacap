{
 "cells": [
  {
   "cell_type": "code",
   "execution_count": 1,
   "id": "precise-caribbean",
   "metadata": {},
   "outputs": [],
   "source": [
    "import numpy as np\n",
    "import matplotlib as mpl\n",
    "import matplotlib.pyplot as plt\n",
    "import scipy as sp\n",
    "from scipy.sparse import linalg"
   ]
  },
  {
   "cell_type": "code",
   "execution_count": 2,
   "id": "advisory-hypothetical",
   "metadata": {},
   "outputs": [],
   "source": [
    "A = np.array([[1, 0, 0], [0, 2, 0], [0, 0, 3]], 'float32')"
   ]
  },
  {
   "cell_type": "code",
   "execution_count": 14,
   "id": "recreational-comfort",
   "metadata": {},
   "outputs": [],
   "source": [
    "evalues, evectors = linalg.eigsh(A, k=2, which=\"LM\")"
   ]
  },
  {
   "cell_type": "code",
   "execution_count": 15,
   "id": "thorough-strike",
   "metadata": {},
   "outputs": [
    {
     "data": {
      "text/plain": [
       "array([1.9999999, 2.9999998], dtype=float32)"
      ]
     },
     "execution_count": 15,
     "metadata": {},
     "output_type": "execute_result"
    }
   ],
   "source": [
    "evalues"
   ]
  },
  {
   "cell_type": "code",
   "execution_count": 16,
   "id": "psychological-display",
   "metadata": {},
   "outputs": [
    {
     "data": {
      "text/plain": [
       "array([[ 0.0000000e+00,  5.9604645e-08],\n",
       "       [ 1.0000000e+00, -1.3120945e-07],\n",
       "       [-2.0861626e-07, -1.0000000e+00]], dtype=float32)"
      ]
     },
     "execution_count": 16,
     "metadata": {},
     "output_type": "execute_result"
    }
   ],
   "source": [
    "evectors"
   ]
  },
  {
   "cell_type": "code",
   "execution_count": 17,
   "id": "collectible-projector",
   "metadata": {},
   "outputs": [
    {
     "data": {
      "text/plain": [
       "array([[ 0.0000000e+00,  5.9604645e-08],\n",
       "       [ 2.0000000e+00, -2.6241889e-07],\n",
       "       [-6.2584877e-07, -3.0000000e+00]], dtype=float32)"
      ]
     },
     "execution_count": 17,
     "metadata": {},
     "output_type": "execute_result"
    }
   ],
   "source": [
    "np.matmul(A, evectors)"
   ]
  },
  {
   "cell_type": "code",
   "execution_count": 7,
   "id": "anticipated-ottawa",
   "metadata": {},
   "outputs": [
    {
     "data": {
      "text/plain": [
       "array([ 0.0000000e+00, -2.9999995e+00, -1.7881393e-07], dtype=float32)"
      ]
     },
     "execution_count": 7,
     "metadata": {},
     "output_type": "execute_result"
    }
   ],
   "source": [
    "evectors[:,0] * 3"
   ]
  },
  {
   "cell_type": "code",
   "execution_count": null,
   "id": "opponent-posting",
   "metadata": {},
   "outputs": [],
   "source": []
  }
 ],
 "metadata": {
  "kernelspec": {
   "display_name": "Python 3",
   "language": "python",
   "name": "python3"
  },
  "language_info": {
   "codemirror_mode": {
    "name": "ipython",
    "version": 3
   },
   "file_extension": ".py",
   "mimetype": "text/x-python",
   "name": "python",
   "nbconvert_exporter": "python",
   "pygments_lexer": "ipython3",
   "version": "3.8.10"
  }
 },
 "nbformat": 4,
 "nbformat_minor": 5
}
